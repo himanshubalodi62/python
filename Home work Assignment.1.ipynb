{
 "cells": [
  {
   "cell_type": "code",
   "execution_count": null,
   "metadata": {},
   "outputs": [],
   "source": [
    "q1 : Try to print this by using while loop \n",
    "* \n",
    "* * \n",
    "* * * \n",
    "* * * * \n",
    "* * * * * \n",
    "* * * * * * \n",
    "* * * * * * * \n",
    "* * * * * * * * \n",
    "* * * * * * * * * \n"
   ]
  },
  {
   "cell_type": "code",
   "execution_count": null,
   "metadata": {},
   "outputs": [],
   "source": [
    "q2 : try to print below by using while loop : \n",
    "        \n",
    "A\n",
    "B H \n",
    "C I N\n",
    "D J o S\n",
    "E K p T W\n",
    "F L Q U X z\n",
    "G M R V Y "
   ]
  },
  {
   "cell_type": "code",
   "execution_count": null,
   "metadata": {},
   "outputs": [],
   "source": [
    "Try to print all the number divisible by 3 in between a range of 40 - 400?"
   ]
  },
  {
   "cell_type": "code",
   "execution_count": 5,
   "metadata": {},
   "outputs": [
    {
     "name": "stdout",
     "output_type": "stream",
     "text": [
      "Enter the lower range limit :40\n",
      "Enter the upper range limit :400\n",
      "42\n",
      "45\n",
      "48\n",
      "51\n",
      "54\n",
      "57\n",
      "60\n",
      "63\n",
      "66\n",
      "69\n",
      "72\n",
      "75\n",
      "78\n",
      "81\n",
      "84\n",
      "87\n",
      "90\n",
      "93\n",
      "96\n",
      "99\n",
      "102\n",
      "105\n",
      "108\n",
      "111\n",
      "114\n",
      "117\n",
      "120\n",
      "123\n",
      "126\n",
      "129\n",
      "132\n",
      "135\n",
      "138\n",
      "141\n",
      "144\n",
      "147\n",
      "150\n",
      "153\n",
      "156\n",
      "159\n",
      "162\n",
      "165\n",
      "168\n",
      "171\n",
      "174\n",
      "177\n",
      "180\n",
      "183\n",
      "186\n",
      "189\n",
      "192\n",
      "195\n",
      "198\n",
      "201\n",
      "204\n",
      "207\n",
      "210\n",
      "213\n",
      "216\n",
      "219\n",
      "222\n",
      "225\n",
      "228\n",
      "231\n",
      "234\n",
      "237\n",
      "240\n",
      "243\n",
      "246\n",
      "249\n",
      "252\n",
      "255\n",
      "258\n",
      "261\n",
      "264\n",
      "267\n",
      "270\n",
      "273\n",
      "276\n",
      "279\n",
      "282\n",
      "285\n",
      "288\n",
      "291\n",
      "294\n",
      "297\n",
      "300\n",
      "303\n",
      "306\n",
      "309\n",
      "312\n",
      "315\n",
      "318\n",
      "321\n",
      "324\n",
      "327\n",
      "330\n",
      "333\n",
      "336\n",
      "339\n",
      "342\n",
      "345\n",
      "348\n",
      "351\n",
      "354\n",
      "357\n",
      "360\n",
      "363\n",
      "366\n",
      "369\n",
      "372\n",
      "375\n",
      "378\n",
      "381\n",
      "384\n",
      "387\n",
      "390\n",
      "393\n",
      "396\n",
      "399\n"
     ]
    }
   ],
   "source": [
    "lower = int(input(\"Enter the lower range limit :\"))\n",
    "upper = int(input(\"Enter the upper range limit :\"))\n",
    "for i in range(lower,upper+1):\n",
    "    \n",
    "    if((i%3==0) and (i%3==0)):\n",
    "        print(i)\n"
   ]
  },
  {
   "cell_type": "code",
   "execution_count": null,
   "metadata": {},
   "outputs": [],
   "source": [
    "Try to filter out all the vowels form below text by using while loop : "
   ]
  },
  {
   "cell_type": "code",
   "execution_count": null,
   "metadata": {},
   "outputs": [],
   "source": [
    "Try to generate all the even number between 1- 1000?"
   ]
  },
  {
   "cell_type": "code",
   "execution_count": 3,
   "metadata": {},
   "outputs": [
    {
     "name": "stdout",
     "output_type": "stream",
     "text": [
      "[2, 4, 6, 8, 10, 12, 14, 16, 18, 20, 22, 24, 26, 28, 30, 32, 34, 36, 38, 40, 42, 44, 46, 48, 50, 52, 54, 56, 58, 60, 62, 64, 66, 68, 70, 72, 74, 76, 78, 80, 82, 84, 86, 88, 90, 92, 94, 96, 98, 100, 102, 104, 106, 108, 110, 112, 114, 116, 118, 120, 122, 124, 126, 128, 130, 132, 134, 136, 138, 140, 142, 144, 146, 148, 150, 152, 154, 156, 158, 160, 162, 164, 166, 168, 170, 172, 174, 176, 178, 180, 182, 184, 186, 188, 190, 192, 194, 196, 198, 200, 202, 204, 206, 208, 210, 212, 214, 216, 218, 220, 222, 224, 226, 228, 230, 232, 234, 236, 238, 240, 242, 244, 246, 248, 250, 252, 254, 256, 258, 260, 262, 264, 266, 268, 270, 272, 274, 276, 278, 280, 282, 284, 286, 288, 290, 292, 294, 296, 298, 300, 302, 304, 306, 308, 310, 312, 314, 316, 318, 320, 322, 324, 326, 328, 330, 332, 334, 336, 338, 340, 342, 344, 346, 348, 350, 352, 354, 356, 358, 360, 362, 364, 366, 368, 370, 372, 374, 376, 378, 380, 382, 384, 386, 388, 390, 392, 394, 396, 398, 400, 402, 404, 406, 408, 410, 412, 414, 416, 418, 420, 422, 424, 426, 428, 430, 432, 434, 436, 438, 440, 442, 444, 446, 448, 450, 452, 454, 456, 458, 460, 462, 464, 466, 468, 470, 472, 474, 476, 478, 480, 482, 484, 486, 488, 490, 492, 494, 496, 498, 500, 502, 504, 506, 508, 510, 512, 514, 516, 518, 520, 522, 524, 526, 528, 530, 532, 534, 536, 538, 540, 542, 544, 546, 548, 550, 552, 554, 556, 558, 560, 562, 564, 566, 568, 570, 572, 574, 576, 578, 580, 582, 584, 586, 588, 590, 592, 594, 596, 598, 600, 602, 604, 606, 608, 610, 612, 614, 616, 618, 620, 622, 624, 626, 628, 630, 632, 634, 636, 638, 640, 642, 644, 646, 648, 650, 652, 654, 656, 658, 660, 662, 664, 666, 668, 670, 672, 674, 676, 678, 680, 682, 684, 686, 688, 690, 692, 694, 696, 698, 700, 702, 704, 706, 708, 710, 712, 714, 716, 718, 720, 722, 724, 726, 728, 730, 732, 734, 736, 738, 740, 742, 744, 746, 748, 750, 752, 754, 756, 758, 760, 762, 764, 766, 768, 770, 772, 774, 776, 778, 780, 782, 784, 786, 788, 790, 792, 794, 796, 798, 800, 802, 804, 806, 808, 810, 812, 814, 816, 818, 820, 822, 824, 826, 828, 830, 832, 834, 836, 838, 840, 842, 844, 846, 848, 850, 852, 854, 856, 858, 860, 862, 864, 866, 868, 870, 872, 874, 876, 878, 880, 882, 884, 886, 888, 890, 892, 894, 896, 898, 900, 902, 904, 906, 908, 910, 912, 914, 916, 918, 920, 922, 924, 926, 928, 930, 932, 934, 936, 938, 940, 942, 944, 946, 948, 950, 952, 954, 956, 958, 960, 962, 964, 966, 968, 970, 972, 974, 976, 978, 980, 982, 984, 986, 988, 990, 992, 994, 996, 998]\n",
      "[2, 4, 6, 8, 10, 12, 14, 16, 18, 20, 22, 24, 26, 28, 30, 32, 34, 36, 38, 40, 42, 44, 46, 48, 50, 52, 54, 56, 58, 60, 62, 64, 66, 68, 70, 72, 74, 76, 78, 80, 82, 84, 86, 88, 90, 92, 94, 96, 98, 100, 102, 104, 106, 108, 110, 112, 114, 116, 118, 120, 122, 124, 126, 128, 130, 132, 134, 136, 138, 140, 142, 144, 146, 148, 150, 152, 154, 156, 158, 160, 162, 164, 166, 168, 170, 172, 174, 176, 178, 180, 182, 184, 186, 188, 190, 192, 194, 196, 198, 200, 202, 204, 206, 208, 210, 212, 214, 216, 218, 220, 222, 224, 226, 228, 230, 232, 234, 236, 238, 240, 242, 244, 246, 248, 250, 252, 254, 256, 258, 260, 262, 264, 266, 268, 270, 272, 274, 276, 278, 280, 282, 284, 286, 288, 290, 292, 294, 296, 298, 300, 302, 304, 306, 308, 310, 312, 314, 316, 318, 320, 322, 324, 326, 328, 330, 332, 334, 336, 338, 340, 342, 344, 346, 348, 350, 352, 354, 356, 358, 360, 362, 364, 366, 368, 370, 372, 374, 376, 378, 380, 382, 384, 386, 388, 390, 392, 394, 396, 398, 400, 402, 404, 406, 408, 410, 412, 414, 416, 418, 420, 422, 424, 426, 428, 430, 432, 434, 436, 438, 440, 442, 444, 446, 448, 450, 452, 454, 456, 458, 460, 462, 464, 466, 468, 470, 472, 474, 476, 478, 480, 482, 484, 486, 488, 490, 492, 494, 496, 498, 500, 502, 504, 506, 508, 510, 512, 514, 516, 518, 520, 522, 524, 526, 528, 530, 532, 534, 536, 538, 540, 542, 544, 546, 548, 550, 552, 554, 556, 558, 560, 562, 564, 566, 568, 570, 572, 574, 576, 578, 580, 582, 584, 586, 588, 590, 592, 594, 596, 598, 600, 602, 604, 606, 608, 610, 612, 614, 616, 618, 620, 622, 624, 626, 628, 630, 632, 634, 636, 638, 640, 642, 644, 646, 648, 650, 652, 654, 656, 658, 660, 662, 664, 666, 668, 670, 672, 674, 676, 678, 680, 682, 684, 686, 688, 690, 692, 694, 696, 698, 700, 702, 704, 706, 708, 710, 712, 714, 716, 718, 720, 722, 724, 726, 728, 730, 732, 734, 736, 738, 740, 742, 744, 746, 748, 750, 752, 754, 756, 758, 760, 762, 764, 766, 768, 770, 772, 774, 776, 778, 780, 782, 784, 786, 788, 790, 792, 794, 796, 798, 800, 802, 804, 806, 808, 810, 812, 814, 816, 818, 820, 822, 824, 826, 828, 830, 832, 834, 836, 838, 840, 842, 844, 846, 848, 850, 852, 854, 856, 858, 860, 862, 864, 866, 868, 870, 872, 874, 876, 878, 880, 882, 884, 886, 888, 890, 892, 894, 896, 898, 900, 902, 904, 906, 908, 910, 912, 914, 916, 918, 920, 922, 924, 926, 928, 930, 932, 934, 936, 938, 940, 942, 944, 946, 948, 950, 952, 954, 956, 958, 960, 962, 964, 966, 968, 970, 972, 974, 976, 978, 980, 982, 984, 986, 988, 990, 992, 994, 996, 998]\n"
     ]
    }
   ],
   "source": [
    "lst = list(range(1,1000))\n",
    "even_list =lst[1::2]\n",
    "print(even_list)\n",
    "new = list(range(2,1000,2))\n",
    "print(new)"
   ]
  },
  {
   "cell_type": "code",
   "execution_count": null,
   "metadata": {},
   "outputs": [],
   "source": [
    "write a code to get a time of your system ."
   ]
  },
  {
   "cell_type": "code",
   "execution_count": 17,
   "metadata": {},
   "outputs": [
    {
     "data": {
      "text/plain": [
       "'Thu Jun  2 12:45:06 2022'"
      ]
     },
     "execution_count": 17,
     "metadata": {},
     "output_type": "execute_result"
    }
   ],
   "source": [
    "from time import time, ctime\n",
    "t = time()\n",
    "ctime(t)\n"
   ]
  },
  {
   "cell_type": "code",
   "execution_count": null,
   "metadata": {},
   "outputs": [],
   "source": [
    "Write a code to fetch date form your system ."
   ]
  },
  {
   "cell_type": "code",
   "execution_count": 19,
   "metadata": {},
   "outputs": [
    {
     "name": "stdout",
     "output_type": "stream",
     "text": [
      "Today's date: 2022-06-02\n"
     ]
    }
   ],
   "source": [
    "from datetime import date\n",
    "\n",
    "today = date.today()\n",
    "print(\"Today's date:\", today)"
   ]
  },
  {
   "cell_type": "raw",
   "metadata": {},
   "source": [
    "Define a function for all the above problem statement? "
   ]
  },
  {
   "cell_type": "code",
   "execution_count": 7,
   "metadata": {},
   "outputs": [],
   "source": [
    "def test1():\n",
    "    print( \"this is none type function\")"
   ]
  },
  {
   "cell_type": "code",
   "execution_count": 8,
   "metadata": {},
   "outputs": [
    {
     "name": "stdout",
     "output_type": "stream",
     "text": [
      "this is none type function\n"
     ]
    }
   ],
   "source": [
    "test1()"
   ]
  },
  {
   "cell_type": "code",
   "execution_count": 7,
   "metadata": {},
   "outputs": [
    {
     "name": "stdout",
     "output_type": "stream",
     "text": [
      "this is none type function\n"
     ]
    },
    {
     "data": {
      "text/plain": [
       "NoneType"
      ]
     },
     "execution_count": 7,
     "metadata": {},
     "output_type": "execute_result"
    }
   ],
   "source": [
    "type(test1())"
   ]
  },
  {
   "cell_type": "code",
   "execution_count": 8,
   "metadata": {},
   "outputs": [],
   "source": [
    "def test2():\n",
    "    return \"this is return the same value \""
   ]
  },
  {
   "cell_type": "code",
   "execution_count": 9,
   "metadata": {},
   "outputs": [
    {
     "data": {
      "text/plain": [
       "'this is return the same value '"
      ]
     },
     "execution_count": 9,
     "metadata": {},
     "output_type": "execute_result"
    }
   ],
   "source": [
    "test2()"
   ]
  },
  {
   "cell_type": "code",
   "execution_count": 10,
   "metadata": {},
   "outputs": [
    {
     "data": {
      "text/plain": [
       "str"
      ]
     },
     "execution_count": 10,
     "metadata": {},
     "output_type": "execute_result"
    }
   ],
   "source": [
    "type(test2())"
   ]
  },
  {
   "cell_type": "code",
   "execution_count": 11,
   "metadata": {},
   "outputs": [
    {
     "name": "stdout",
     "output_type": "stream",
     "text": [
      "Enter Computer Name is:DESKTOP-Q1VFU5H\n",
      "Enter the Computer IP Address is:192.168.29.54\n"
     ]
    }
   ],
   "source": [
    "import socket\n",
    "hostname=socket.gethostname()\n",
    "IPAddr=socket.gethostbyname(hostname)\n",
    "print(\"Enter Computer Name is:\"+hostname)\n",
    "print(\"Enter the Computer IP Address is:\"+IPAddr)"
   ]
  },
  {
   "cell_type": "code",
   "execution_count": 9,
   "metadata": {},
   "outputs": [
    {
     "data": {
      "text/plain": [
       "True"
      ]
     },
     "execution_count": 9,
     "metadata": {},
     "output_type": "execute_result"
    }
   ],
   "source": [
    "import psutil\n",
    "  \n",
    "\"chrome.exe\" in (i.name() \n",
    "for i in psutil.process_iter())"
   ]
  },
  {
   "cell_type": "code",
   "execution_count": 18,
   "metadata": {},
   "outputs": [
    {
     "name": "stdout",
     "output_type": "stream",
     "text": [
      "Enter a string: himanshu\n",
      "Length of the input string is: 8\n"
     ]
    }
   ],
   "source": [
    "str = input(\"Enter a string: \")\n",
    "counter = 0\n",
    "for s in str:\n",
    "      counter = counter+1\n",
    "print(\"Length of the input string is:\", counter)"
   ]
  },
  {
   "cell_type": "code",
   "execution_count": null,
   "metadata": {},
   "outputs": [],
   "source": [
    "write a function which will be able to shutdonw your system . "
   ]
  },
  {
   "cell_type": "code",
   "execution_count": 1,
   "metadata": {},
   "outputs": [
    {
     "name": "stdout",
     "output_type": "stream",
     "text": [
      "Collecting pywhatkit\n",
      "  Using cached pywhatkit-5.3-py3-none-any.whl (15 kB)\n",
      "Collecting pyautogui\n",
      "  Using cached PyAutoGUI-0.9.53.tar.gz (59 kB)\n",
      "Requirement already satisfied: requests in d:\\anaconda\\lib\\site-packages (from pywhatkit) (2.24.0)\n",
      "Requirement already satisfied: Pillow in d:\\anaconda\\lib\\site-packages (from pywhatkit) (8.0.1)\n",
      "Collecting wikipedia\n",
      "  Using cached wikipedia-1.4.0.tar.gz (27 kB)\n",
      "Collecting pymsgbox\n",
      "  Using cached PyMsgBox-1.0.9.tar.gz (18 kB)\n",
      "  Installing build dependencies: started\n",
      "  Installing build dependencies: finished with status 'done'\n",
      "  Getting requirements to build wheel: started\n",
      "  Getting requirements to build wheel: finished with status 'done'\n",
      "    Preparing wheel metadata: started\n",
      "    Preparing wheel metadata: finished with status 'done'\n",
      "Collecting PyTweening>=1.0.1\n",
      "  Downloading pytweening-1.0.4.tar.gz (14 kB)\n",
      "Collecting pyscreeze>=0.1.21\n",
      "  Downloading PyScreeze-0.1.28.tar.gz (25 kB)\n",
      "  Installing build dependencies: started\n",
      "  Installing build dependencies: finished with status 'done'\n",
      "  Getting requirements to build wheel: started\n",
      "  Getting requirements to build wheel: finished with status 'done'\n",
      "    Preparing wheel metadata: started\n",
      "    Preparing wheel metadata: finished with status 'done'\n",
      "Collecting pygetwindow>=0.0.5\n",
      "  Downloading PyGetWindow-0.0.9.tar.gz (9.7 kB)\n",
      "Collecting mouseinfo\n",
      "  Downloading MouseInfo-0.1.3.tar.gz (10 kB)\n",
      "Requirement already satisfied: urllib3!=1.25.0,!=1.25.1,<1.26,>=1.21.1 in d:\\anaconda\\lib\\site-packages (from requests->pywhatkit) (1.25.11)\n",
      "Requirement already satisfied: certifi>=2017.4.17 in d:\\anaconda\\lib\\site-packages (from requests->pywhatkit) (2020.6.20)\n",
      "Requirement already satisfied: chardet<4,>=3.0.2 in d:\\anaconda\\lib\\site-packages (from requests->pywhatkit) (3.0.4)\n",
      "Requirement already satisfied: idna<3,>=2.5 in d:\\anaconda\\lib\\site-packages (from requests->pywhatkit) (2.10)\n",
      "Requirement already satisfied: beautifulsoup4 in d:\\anaconda\\lib\\site-packages (from wikipedia->pywhatkit) (4.9.3)\n",
      "Collecting pyrect\n",
      "  Downloading PyRect-0.2.0.tar.gz (17 kB)\n",
      "Collecting pyperclip\n",
      "  Downloading pyperclip-1.8.2.tar.gz (20 kB)\n",
      "Requirement already satisfied: soupsieve>1.2; python_version >= \"3.0\" in d:\\anaconda\\lib\\site-packages (from beautifulsoup4->wikipedia->pywhatkit) (2.0.1)\n",
      "Building wheels for collected packages: pyautogui, wikipedia, pymsgbox, PyTweening, pyscreeze, pygetwindow, mouseinfo, pyrect, pyperclip\n",
      "  Building wheel for pyautogui (setup.py): started\n",
      "  Building wheel for pyautogui (setup.py): finished with status 'done'\n",
      "  Created wheel for pyautogui: filename=PyAutoGUI-0.9.53-py3-none-any.whl size=36589 sha256=ecb5dd45d9c386bc936209b525fb55b578e8b6570c1ed734745fc289edfb5d68\n",
      "  Stored in directory: c:\\users\\balodi\\appdata\\local\\pip\\cache\\wheels\\54\\04\\f7\\55704a9d374ed923785a4fdc0ef00151fa25306b3b93345532\n",
      "  Building wheel for wikipedia (setup.py): started\n",
      "  Building wheel for wikipedia (setup.py): finished with status 'done'\n",
      "  Created wheel for wikipedia: filename=wikipedia-1.4.0-py3-none-any.whl size=11689 sha256=ef06a9259fbff0c2e7bf18be214bd25187e1d4a574ae0fe43deb85682c482e83\n",
      "  Stored in directory: c:\\users\\balodi\\appdata\\local\\pip\\cache\\wheels\\07\\93\\05\\72c05349177dca2e0ba31a33ba4f7907606f7ddef303517c6a\n",
      "  Building wheel for pymsgbox (PEP 517): started\n",
      "  Building wheel for pymsgbox (PEP 517): finished with status 'done'\n",
      "  Created wheel for pymsgbox: filename=PyMsgBox-1.0.9-py3-none-any.whl size=7406 sha256=152866c64936188f51d87640289736ca55cb82a283aa587317729e6ec84584d6\n",
      "  Stored in directory: c:\\users\\balodi\\appdata\\local\\pip\\cache\\wheels\\91\\28\\0d\\f4eb606d38276836237d6dc2abf094241e6db5682a126e0389\n",
      "  Building wheel for PyTweening (setup.py): started\n",
      "  Building wheel for PyTweening (setup.py): finished with status 'done'\n",
      "  Created wheel for PyTweening: filename=pytweening-1.0.4-py3-none-any.whl size=5830 sha256=30752d3e0d2a7383c046776ef3c7f0e10328051eaf8abc3dd8395a00451c55ad\n",
      "  Stored in directory: c:\\users\\balodi\\appdata\\local\\pip\\cache\\wheels\\a2\\1b\\69\\dc477653ccc19228bf53af76c623e4e82e5dc1b6f78d5c4d35\n",
      "  Building wheel for pyscreeze (PEP 517): started\n",
      "  Building wheel for pyscreeze (PEP 517): finished with status 'done'\n",
      "  Created wheel for pyscreeze: filename=PyScreeze-0.1.28-py3-none-any.whl size=13009 sha256=4ca6deb6ea89cd690e8e1006298c578526727f4e999bf0cd6754d4fdd22f162b\n",
      "  Stored in directory: c:\\users\\balodi\\appdata\\local\\pip\\cache\\wheels\\b1\\b0\\5c\\9fb5beb2d6c708479a670e92f4ab3b54523a15c9cd4a46e24e\n",
      "  Building wheel for pygetwindow (setup.py): started\n",
      "  Building wheel for pygetwindow (setup.py): finished with status 'done'\n",
      "  Created wheel for pygetwindow: filename=PyGetWindow-0.0.9-py3-none-any.whl size=11084 sha256=d28067bc9ec9b77f4ced3e5d3b424c91e546bcb404e45e945bae561e5860f0b1\n",
      "  Stored in directory: c:\\users\\balodi\\appdata\\local\\pip\\cache\\wheels\\91\\e3\\04\\184bda98ec7f7d5f0ba1f372bcf7b3ba86325151ae1dd690fe\n",
      "  Building wheel for mouseinfo (setup.py): started\n",
      "  Building wheel for mouseinfo (setup.py): finished with status 'done'\n",
      "  Created wheel for mouseinfo: filename=MouseInfo-0.1.3-py3-none-any.whl size=10910 sha256=ca8a58f9703d311cb889ef91e5d122a83970cf73afba88f597229a9f5ed93636\n",
      "  Stored in directory: c:\\users\\balodi\\appdata\\local\\pip\\cache\\wheels\\d1\\72\\fb\\35f403de66285df8ecca7049bcc61bfb57aba0f76d1f08f7eb\n",
      "  Building wheel for pyrect (setup.py): started\n",
      "  Building wheel for pyrect (setup.py): finished with status 'done'\n",
      "  Created wheel for pyrect: filename=PyRect-0.2.0-py2.py3-none-any.whl size=11173 sha256=fae9eca1e22d1f341364ba702f555c38ba2dd816f94719efe935459b2eefa170\n",
      "  Stored in directory: c:\\users\\balodi\\appdata\\local\\pip\\cache\\wheels\\1b\\c1\\cc\\3d6515746ab138a303b6b5d38181399703488f8109b734e768\n",
      "  Building wheel for pyperclip (setup.py): started\n",
      "  Building wheel for pyperclip (setup.py): finished with status 'done'\n",
      "  Created wheel for pyperclip: filename=pyperclip-1.8.2-py3-none-any.whl size=11112 sha256=a7147a880cf78cd27cf51e512fc157b68f84010458e93e65dcb071d9a382ae96\n",
      "  Stored in directory: c:\\users\\balodi\\appdata\\local\\pip\\cache\\wheels\\7f\\1a\\65\\84ff8c386bec21fca6d220ea1f5498a0367883a78dd5ba6122\n",
      "Successfully built pyautogui wikipedia pymsgbox PyTweening pyscreeze pygetwindow mouseinfo pyrect pyperclip\n",
      "Installing collected packages: pymsgbox, PyTweening, pyscreeze, pyrect, pygetwindow, pyperclip, mouseinfo, pyautogui, wikipedia, pywhatkit\n",
      "Successfully installed PyTweening-1.0.4 mouseinfo-0.1.3 pyautogui-0.9.53 pygetwindow-0.0.9 pymsgbox-1.0.9 pyperclip-1.8.2 pyrect-0.2.0 pyscreeze-0.1.28 pywhatkit-5.3 wikipedia-1.4.0\n"
     ]
    }
   ],
   "source": [
    "!pip install pywhatkit"
   ]
  },
  {
   "cell_type": "code",
   "execution_count": 3,
   "metadata": {},
   "outputs": [
    {
     "name": "stdout",
     "output_type": "stream",
     "text": [
      "Your System will Shutdown in 120 Seconds!\n"
     ]
    }
   ],
   "source": [
    "import pywhatkit as pwt\n",
    "pwt.shutdown(time=120)"
   ]
  },
  {
   "cell_type": "code",
   "execution_count": null,
   "metadata": {},
   "outputs": [],
   "source": []
  }
 ],
 "metadata": {
  "kernelspec": {
   "display_name": "Python 3",
   "language": "python",
   "name": "python3"
  },
  "language_info": {
   "codemirror_mode": {
    "name": "ipython",
    "version": 3
   },
   "file_extension": ".py",
   "mimetype": "text/x-python",
   "name": "python",
   "nbconvert_exporter": "python",
   "pygments_lexer": "ipython3",
   "version": "3.8.5"
  }
 },
 "nbformat": 4,
 "nbformat_minor": 4
}
